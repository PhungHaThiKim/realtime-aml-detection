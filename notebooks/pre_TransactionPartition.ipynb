{
 "cells": [
  {
   "cell_type": "code",
   "execution_count": 1,
   "id": "16118b12-c47a-4545-949f-6f40e9258eea",
   "metadata": {},
   "outputs": [],
   "source": [
    "from pyspark.sql import SparkSession\n",
    "from pyspark.sql import Window\n",
    "from pyspark.sql.functions import row_number, to_timestamp, year, month, dayofmonth, col"
   ]
  },
  {
   "cell_type": "code",
   "execution_count": 2,
   "id": "896d6578-c408-4fc7-9523-223a895e9e4d",
   "metadata": {},
   "outputs": [],
   "source": [
    "spark = (\n",
    "    SparkSession.builder.appName(\"Transaction Processor\")\n",
    "    .master(\"spark://spark-master:7077\")\n",
    "    .getOrCreate()\n",
    ")"
   ]
  },
  {
   "cell_type": "code",
   "execution_count": 3,
   "id": "e116e072-00d0-45a8-a0fb-31ae8371ad97",
   "metadata": {},
   "outputs": [
    {
     "name": "stdout",
     "output_type": "stream",
     "text": [
      "root\n",
      " |-- Timestamp: string (nullable = true)\n",
      " |-- From Bank: integer (nullable = true)\n",
      " |-- From Account: string (nullable = true)\n",
      " |-- To Bank: integer (nullable = true)\n",
      " |-- To Account: string (nullable = true)\n",
      " |-- Amount Received: double (nullable = true)\n",
      " |-- Receiving Currency: string (nullable = true)\n",
      " |-- Amount Paid: double (nullable = true)\n",
      " |-- Payment Currency: string (nullable = true)\n",
      " |-- Payment Format: string (nullable = true)\n",
      " |-- Is Laundering: integer (nullable = true)\n",
      "\n",
      "+----------------+---------+------------+-------+----------+---------------+------------------+-----------+----------------+--------------+-------------+\n",
      "|       Timestamp|From Bank|From Account|To Bank|To Account|Amount Received|Receiving Currency|Amount Paid|Payment Currency|Payment Format|Is Laundering|\n",
      "+----------------+---------+------------+-------+----------+---------------+------------------+-----------+----------------+--------------+-------------+\n",
      "|2022/09/01 00:20|       10|   8000EBD30|     10| 8000EBD30|        3697.34|         US Dollar|    3697.34|       US Dollar|  Reinvestment|            0|\n",
      "|2022/09/01 00:20|     3208|   8000F4580|      1| 8000F5340|           0.01|         US Dollar|       0.01|       US Dollar|        Cheque|            0|\n",
      "|2022/09/01 00:00|     3209|   8000F4670|   3209| 8000F4670|       14675.57|         US Dollar|   14675.57|       US Dollar|  Reinvestment|            0|\n",
      "|2022/09/01 00:02|       12|   8000F5030|     12| 8000F5030|        2806.97|         US Dollar|    2806.97|       US Dollar|  Reinvestment|            0|\n",
      "|2022/09/01 00:06|       10|   8000F5200|     10| 8000F5200|       36682.97|         US Dollar|   36682.97|       US Dollar|  Reinvestment|            0|\n",
      "+----------------+---------+------------+-------+----------+---------------+------------------+-----------+----------------+--------------+-------------+\n",
      "only showing top 5 rows\n",
      "\n"
     ]
    }
   ],
   "source": [
    "df = spark.read.csv(\n",
    "    \"hdfs://hadoop:9000/data/transactions/raw/HI-Small_Trans.csv\",\n",
    "    header=True,\n",
    "    inferSchema=True,\n",
    ")\n",
    "df = df.withColumnRenamed(\"Account2\", \"From Account\") \\\n",
    "       .withColumnRenamed(\"Account4\", \"To Account\")\n",
    "df.printSchema()\n",
    "df.show(5)"
   ]
  },
  {
   "cell_type": "code",
   "execution_count": 4,
   "id": "7b2e9a49-c0e1-462d-a670-c6fd46e9dc05",
   "metadata": {},
   "outputs": [
    {
     "name": "stdout",
     "output_type": "stream",
     "text": [
      "+----------------+---------+------------+-------+----------+---------------+------------------+-----------+----------------+--------------+-------------+-------------------+------+\n",
      "|       Timestamp|From Bank|From Account|To Bank|To Account|Amount Received|Receiving Currency|Amount Paid|Payment Currency|Payment Format|Is Laundering|                 ts|txn_id|\n",
      "+----------------+---------+------------+-------+----------+---------------+------------------+-----------+----------------+--------------+-------------+-------------------+------+\n",
      "|2022/09/01 00:00|        1|   800057A10|     12| 800473570|        1433.68|         US Dollar|    1433.68|       US Dollar|        Cheque|            0|2022-09-01 00:00:00|     1|\n",
      "|2022/09/01 00:00|        1|   80005C0A0|   1588| 8003AC470|         427.27|         US Dollar|     427.27|       US Dollar|           ACH|            0|2022-09-01 00:00:00|     2|\n",
      "|2022/09/01 00:00|        1|   80005E740|   1362| 800256180|         3698.2|         US Dollar|     3698.2|       US Dollar|   Credit Card|            0|2022-09-01 00:00:00|     3|\n",
      "|2022/09/01 00:00|        1|   8000EBF70| 220271| 80CD447B0|        5529.28|         US Dollar|    5529.28|       US Dollar|          Wire|            0|2022-09-01 00:00:00|     4|\n",
      "|2022/09/01 00:00|        1|   8001111F0|   3242| 802DB2450|         268.51|         US Dollar|     268.51|       US Dollar|   Credit Card|            0|2022-09-01 00:00:00|     5|\n",
      "+----------------+---------+------------+-------+----------+---------------+------------------+-----------+----------------+--------------+-------------+-------------------+------+\n",
      "only showing top 5 rows\n",
      "\n"
     ]
    }
   ],
   "source": [
    "from pyspark.sql.window import Window\n",
    "from pyspark.sql.functions import row_number, to_timestamp\n",
    "\n",
    "df = df.withColumn(\"ts\", to_timestamp(\"Timestamp\", \"yyyy/MM/dd HH:mm\"))\n",
    "window_spec = Window.orderBy(\"ts\", \"From Bank\", \"From Account\", \"To Bank\", \"To Account\")\n",
    "df = df.withColumn(\"txn_id\", row_number().over(window_spec))\n",
    "\n",
    "df.show(5)"
   ]
  },
  {
   "cell_type": "code",
   "execution_count": 5,
   "id": "cd4c6aaf-5dfa-4871-ad42-7c923e097b37",
   "metadata": {},
   "outputs": [
    {
     "name": "stdout",
     "output_type": "stream",
     "text": [
      "+-------------+-------+\n",
      "|Is Laundering|  count|\n",
      "+-------------+-------+\n",
      "|            1|   5177|\n",
      "|            0|5073168|\n",
      "+-------------+-------+\n",
      "\n"
     ]
    }
   ],
   "source": [
    "df.groupBy(\"Is Laundering\").count().show()"
   ]
  },
  {
   "cell_type": "code",
   "execution_count": 6,
   "id": "a30bc9ae-00a0-4f71-a3c4-ee514026017f",
   "metadata": {},
   "outputs": [],
   "source": [
    "df_sus = df.filter(df[\"Is Laundering\"] == 1)"
   ]
  },
  {
   "cell_type": "code",
   "execution_count": 7,
   "id": "615836c0-fcb9-4842-8d4a-c2c278e4a02c",
   "metadata": {},
   "outputs": [],
   "source": [
    "from pyspark.sql.functions import col, lit\n",
    "\n",
    "from_parties = df_sus.select(\n",
    "    col(\"From Bank\").alias(\"Bank\"),\n",
    "    col(\"From Account\").alias(\"Account\")\n",
    ")\n",
    "\n",
    "to_parties = df_sus.select(\n",
    "    col(\"To Bank\").alias(\"Bank\"),\n",
    "    col(\"To Account\").alias(\"Account\")\n",
    ")\n",
    "\n",
    "# Union lại → distinct để lấy tập nghi ngờ\n",
    "suspect_parties = from_parties.union(to_parties).distinct()"
   ]
  },
  {
   "cell_type": "code",
   "execution_count": 8,
   "id": "bbf63ea8-2a64-494b-8382-1dd1e8b25326",
   "metadata": {},
   "outputs": [],
   "source": [
    "df_from_match = df.join(\n",
    "    suspect_parties,\n",
    "    (df[\"From Bank\"] == suspect_parties[\"Bank\"]) &\n",
    "    (df[\"From Account\"] == suspect_parties[\"Account\"]),\n",
    "    how=\"inner\"\n",
    ")"
   ]
  },
  {
   "cell_type": "code",
   "execution_count": 9,
   "id": "4e6f63a2-6e71-44f1-b2c1-6a19badaf676",
   "metadata": {},
   "outputs": [],
   "source": [
    "df_to_match = df.join(\n",
    "    suspect_parties,\n",
    "    (df[\"To Bank\"] == suspect_parties[\"Bank\"]) &\n",
    "    (df[\"To Account\"] == suspect_parties[\"Account\"]),\n",
    "    how=\"inner\"\n",
    ")"
   ]
  },
  {
   "cell_type": "code",
   "execution_count": 10,
   "id": "270d3c05-543e-4567-acfa-26c3ed9123b8",
   "metadata": {},
   "outputs": [],
   "source": [
    "df_related = df_from_match.union(df_to_match).dropDuplicates([\"txn_id\"])"
   ]
  },
  {
   "cell_type": "code",
   "execution_count": 11,
   "id": "6e99bcf3-ca82-4cfc-9a8d-ce1f373a7c22",
   "metadata": {},
   "outputs": [
    {
     "name": "stdout",
     "output_type": "stream",
     "text": [
      "📌 Số dòng liên quan đến giao dịch nghi ngờ: 616596\n",
      "+----------------+---------+------------+-------+----------+---------------+------------------+-----------+----------------+--------------+-------------+-------------------+------+------+---------+\n",
      "|Timestamp       |From Bank|From Account|To Bank|To Account|Amount Received|Receiving Currency|Amount Paid|Payment Currency|Payment Format|Is Laundering|ts                 |txn_id|Bank  |Account  |\n",
      "+----------------+---------+------------+-------+----------+---------------+------------------+-----------+----------------+--------------+-------------+-------------------+------+------+---------+\n",
      "|2022/09/01 00:00|1        |8001364A0   |1      |8001364A0 |10.3           |US Dollar         |10.3       |US Dollar       |Reinvestment  |0            |2022-09-01 00:00:00|6     |1     |8001364A0|\n",
      "|2022/09/01 00:00|1        |8001BA930   |1411   |8019F58F0 |3690.43        |US Dollar         |3690.43    |US Dollar       |ACH           |0            |2022-09-01 00:00:00|16    |1     |8001BA930|\n",
      "|2022/09/01 00:00|3        |800E5F1D0   |21381  |802FFC060 |41052.82       |Yuan              |41052.82   |Yuan            |Credit Card   |0            |2022-09-01 00:00:00|76    |21381 |802FFC060|\n",
      "|2022/09/01 00:00|4        |80E435B80   |4      |80E435B80 |121.14         |Yuan              |121.14     |Yuan            |Reinvestment  |0            |2022-09-01 00:00:00|157   |4     |80E435B80|\n",
      "|2022/09/01 00:00|7        |8076E1730   |122047 |8083E2020 |1946560.01     |UK Pound          |1946560.01 |UK Pound        |ACH           |0            |2022-09-01 00:00:00|233   |122047|8083E2020|\n",
      "|2022/09/01 00:00|10       |80639B830   |10     |80639B830 |783.08         |Ruble             |783.08     |Ruble           |Reinvestment  |0            |2022-09-01 00:00:00|360   |10    |80639B830|\n",
      "|2022/09/01 00:00|11       |8001FD490   |11657  |800C74670 |3526.4         |Euro              |3526.4     |Euro            |Credit Card   |0            |2022-09-01 00:00:00|385   |11    |8001FD490|\n",
      "|2022/09/01 00:00|11       |8001FD490   |11657  |800C74670 |5868.66        |Euro              |5868.66    |Euro            |ACH           |0            |2022-09-01 00:00:00|386   |11    |8001FD490|\n",
      "|2022/09/01 00:00|11       |800256CC0   |11     |800256CC0 |5476.92        |Euro              |5476.92    |Euro            |Reinvestment  |0            |2022-09-01 00:00:00|388   |11    |800256CC0|\n",
      "|2022/09/01 00:00|11       |8009636A0   |22     |802B81EB0 |12367.06       |Euro              |12367.06   |Euro            |Credit Card   |0            |2022-09-01 00:00:00|392   |11    |8009636A0|\n",
      "+----------------+---------+------------+-------+----------+---------------+------------------+-----------+----------------+--------------+-------------+-------------------+------+------+---------+\n",
      "only showing top 10 rows\n",
      "\n"
     ]
    }
   ],
   "source": [
    "print(f\"📌 Số dòng liên quan đến giao dịch nghi ngờ: {df_related.count()}\")\n",
    "df_related.show(10, truncate=False)"
   ]
  },
  {
   "cell_type": "code",
   "execution_count": 12,
   "id": "83434628-1e79-4feb-a879-d40c1fadda8c",
   "metadata": {},
   "outputs": [
    {
     "name": "stdout",
     "output_type": "stream",
     "text": [
      "+-------------+------+\n",
      "|Is Laundering| count|\n",
      "+-------------+------+\n",
      "|            1|  5177|\n",
      "|            0|611419|\n",
      "+-------------+------+\n",
      "\n"
     ]
    }
   ],
   "source": [
    "df_related.groupBy(\"Is Laundering\").count().show()"
   ]
  },
  {
   "cell_type": "code",
   "execution_count": 13,
   "id": "d7b69dd1-c37d-490a-abb2-69f51c1ba9d8",
   "metadata": {},
   "outputs": [],
   "source": [
    "df_related = df_related.withColumn(\"year\", year(\"ts\")) \\\n",
    "       .withColumn(\"month\", month(\"ts\")) \\\n",
    "       .withColumn(\"day\", dayofmonth(\"ts\"))\n",
    "\n",
    "window_spec = Window.partitionBy(\"year\", \"month\", \"day\") \\\n",
    "                    .orderBy(\"ts\", \"txn_id\")\n",
    "\n",
    "df_related = df_related.withColumn(\"txn_id\", row_number().over(window_spec))"
   ]
  },
  {
   "cell_type": "code",
   "execution_count": 15,
   "id": "5a6159c2-ee5e-4173-a0f9-a10d612469ae",
   "metadata": {},
   "outputs": [
    {
     "name": "stdout",
     "output_type": "stream",
     "text": [
      "4\n"
     ]
    }
   ],
   "source": [
    "print(df_related.rdd.getNumPartitions())\n"
   ]
  },
  {
   "cell_type": "code",
   "execution_count": 16,
   "id": "044b1a7b-2d9f-410f-bf7c-67b008d29fcb",
   "metadata": {},
   "outputs": [],
   "source": [
    "df_related.write.partitionBy(\"year\", \"month\", \"day\") \\\n",
    "  .mode(\"overwrite\") \\\n",
    "  .parquet(\"hdfs://hadoop:9000/data/transactions/partitioned\")"
   ]
  },
  {
   "cell_type": "code",
   "execution_count": 17,
   "id": "cee654ea-c0ee-4b43-8ace-08b6a436e225",
   "metadata": {},
   "outputs": [],
   "source": [
    "spark.stop()"
   ]
  },
  {
   "cell_type": "code",
   "execution_count": null,
   "id": "59448c2d-491d-48c7-a079-5588719ac72f",
   "metadata": {},
   "outputs": [],
   "source": []
  }
 ],
 "metadata": {
  "kernelspec": {
   "display_name": "Python 3 (ipykernel)",
   "language": "python",
   "name": "python3"
  },
  "language_info": {
   "codemirror_mode": {
    "name": "ipython",
    "version": 3
   },
   "file_extension": ".py",
   "mimetype": "text/x-python",
   "name": "python",
   "nbconvert_exporter": "python",
   "pygments_lexer": "ipython3",
   "version": "3.11.6"
  }
 },
 "nbformat": 4,
 "nbformat_minor": 5
}
