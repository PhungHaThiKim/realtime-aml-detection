{
 "cells": [
  {
   "cell_type": "code",
   "execution_count": 1,
   "id": "797e766e-3794-44f5-98f5-0c2aeef3b2b1",
   "metadata": {},
   "outputs": [],
   "source": [
    "import pandas as pd\n",
    "import json\n",
    "from kafka import KafkaProducer\n",
    "import time"
   ]
  },
  {
   "cell_type": "code",
   "execution_count": 2,
   "id": "bae3e1b5-be1f-4a32-b95c-c0e945cd5c40",
   "metadata": {},
   "outputs": [],
   "source": [
    "KAFKA_TOPIC = \"transactions\"\n",
    "KAFKA_BOOTSTRAP_SERVERS = \"kafka:9092\""
   ]
  },
  {
   "cell_type": "code",
   "execution_count": 3,
   "id": "4b8a72e0-8005-4b6a-bde8-c33755eb35ca",
   "metadata": {},
   "outputs": [],
   "source": [
    "def stream_csv_to_kafka(csv_path: str, delay=0.5):\n",
    "    df = pd.read_csv(csv_path)\n",
    "\n",
    "    # Cấu hình producer Kafka\n",
    "    producer = KafkaProducer(\n",
    "        bootstrap_servers=KAFKA_BOOTSTRAP_SERVERS,\n",
    "        value_serializer=lambda v: json.dumps(v).encode(\"utf-8\"),\n",
    "        key_serializer=lambda k: str(k).encode(\"utf-8\")\n",
    "    )\n",
    "\n",
    "    print(f\"📤 Bắt đầu gửi {len(df)} dòng vào Kafka topic '{KAFKA_TOPIC}'...\")\n",
    "\n",
    "    for i, row in df.iterrows():\n",
    "        message = {\n",
    "            \"from_bank\": int(row[\"From Bank\"]),\n",
    "            \"from_acc\": row[\"From Account\"],\n",
    "            \"to_bank\": int(row[\"To Bank\"]),\n",
    "            \"to_acc\": row[\"To Account\"],\n",
    "            \"txn_id\": int(row[\"txn_id\"]),\n",
    "            \"amount_received\": float(row[\"Amount Received\"]),\n",
    "            \"receiving_currency\": row[\"Receiving Currency\"],\n",
    "            \"amount_paid\": float(row[\"Amount Paid\"]),\n",
    "            \"payment_currency\": row[\"Payment Currency\"],\n",
    "            \"payment_format\": row[\"Payment Format\"],\n",
    "            \"ts\": row[\"ts\"],\n",
    "            \"run_date\": row[\"date_str\"]\n",
    "        }\n",
    "\n",
    "        producer.send(\n",
    "            KAFKA_TOPIC,\n",
    "            key=message[\"from_bank\"],\n",
    "            value=message\n",
    "        )\n",
    "        print(f\"✅ Đã gửi txn_id={message['txn_id']}\")\n",
    "\n",
    "        time.sleep(delay)  # giả lập streaming (chậm lại 0.5s mỗi bản ghi)\n",
    "\n",
    "    producer.flush()\n",
    "    print(\"🎉 Gửi xong tất cả message!\")\n"
   ]
  },
  {
   "cell_type": "code",
   "execution_count": 9,
   "id": "9a22a5d2-fb7e-4466-a5dd-89676766871c",
   "metadata": {},
   "outputs": [
    {
     "name": "stdout",
     "output_type": "stream",
     "text": [
      "📤 Bắt đầu gửi 11 dòng vào Kafka topic 'transactions'...\n",
      "✅ Đã gửi txn_id=1\n",
      "✅ Đã gửi txn_id=2\n",
      "✅ Đã gửi txn_id=3\n",
      "✅ Đã gửi txn_id=4\n",
      "✅ Đã gửi txn_id=5\n",
      "✅ Đã gửi txn_id=6\n",
      "✅ Đã gửi txn_id=7\n",
      "✅ Đã gửi txn_id=8\n",
      "✅ Đã gửi txn_id=9\n",
      "✅ Đã gửi txn_id=10\n",
      "✅ Đã gửi txn_id=11\n",
      "🎉 Gửi xong tất cả message!\n"
     ]
    }
   ],
   "source": [
    "csv_path = \"./2022-09-18.csv\"\n",
    "stream_csv_to_kafka(csv_path, delay=5)"
   ]
  },
  {
   "cell_type": "code",
   "execution_count": null,
   "id": "0e9ece33-10fe-4cd8-98ba-5c9d69e286ba",
   "metadata": {},
   "outputs": [],
   "source": []
  }
 ],
 "metadata": {
  "kernelspec": {
   "display_name": "Python 3 (ipykernel)",
   "language": "python",
   "name": "python3"
  },
  "language_info": {
   "codemirror_mode": {
    "name": "ipython",
    "version": 3
   },
   "file_extension": ".py",
   "mimetype": "text/x-python",
   "name": "python",
   "nbconvert_exporter": "python",
   "pygments_lexer": "ipython3",
   "version": "3.11.6"
  }
 },
 "nbformat": 4,
 "nbformat_minor": 5
}
