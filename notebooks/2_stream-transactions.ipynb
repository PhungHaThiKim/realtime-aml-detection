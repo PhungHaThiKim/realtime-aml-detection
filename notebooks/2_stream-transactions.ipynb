{
 "cells": [
  {
   "cell_type": "code",
   "execution_count": 1,
   "id": "797e766e-3794-44f5-98f5-0c2aeef3b2b1",
   "metadata": {},
   "outputs": [],
   "source": [
    "import pandas as pd\n",
    "import json\n",
    "from kafka import KafkaProducer\n",
    "import time"
   ]
  },
  {
   "cell_type": "code",
   "execution_count": 2,
   "id": "bae3e1b5-be1f-4a32-b95c-c0e945cd5c40",
   "metadata": {},
   "outputs": [],
   "source": [
    "KAFKA_TOPIC = \"transactions\"\n",
    "KAFKA_BOOTSTRAP_SERVERS = \"kafka:9092\""
   ]
  },
  {
   "cell_type": "code",
   "execution_count": 3,
   "id": "4b8a72e0-8005-4b6a-bde8-c33755eb35ca",
   "metadata": {},
   "outputs": [],
   "source": [
    "def stream_csv_to_kafka(csv_path: str, delay=0.5):\n",
    "    df = pd.read_csv(csv_path)\n",
    "    print(df.columns)\n",
    "\n",
    "    # Cấu hình producer Kafka\n",
    "    producer = KafkaProducer(\n",
    "        bootstrap_servers=KAFKA_BOOTSTRAP_SERVERS,\n",
    "        value_serializer=lambda v: json.dumps(v).encode(\"utf-8\"),\n",
    "        key_serializer=lambda k: str(k).encode(\"utf-8\")\n",
    "    )\n",
    "\n",
    "    print(f\"📤 Bắt đầu gửi {len(df)} dòng vào Kafka topic '{KAFKA_TOPIC}'...\")\n",
    "\n",
    "    for i, row in df.iterrows():\n",
    "        message = {\n",
    "            \"from_bank\": int(row[\"From Bank\"]),\n",
    "            \"from_acc\": row[\"From Account\"],\n",
    "            \"to_bank\": int(row[\"To Bank\"]),\n",
    "            \"to_acc\": row[\"To Account\"],\n",
    "            \"txn_id\": int(row[\"txn_id\"]),\n",
    "            \"amount_received\": float(row[\"Amount Received\"]),\n",
    "            \"receiving_currency\": row[\"Receiving Currency\"],\n",
    "            \"amount_paid\": float(row[\"Amount Paid\"]),\n",
    "            \"payment_currency\": row[\"Payment Currency\"],\n",
    "            \"payment_format\": row[\"Payment Format\"],\n",
    "            \"ts\": row[\"ts\"],\n",
    "            \"run_date\": row[\"date_str\"]\n",
    "        }\n",
    "\n",
    "        producer.send(\n",
    "            KAFKA_TOPIC,\n",
    "            key=message[\"from_bank\"],\n",
    "            value=message\n",
    "        )\n",
    "        print(f\"✅ Đã gửi txn_id={message['txn_id']}\")\n",
    "\n",
    "        time.sleep(delay)  # giả lập streaming (chậm lại 0.5s mỗi bản ghi)\n",
    "\n",
    "    producer.flush()\n",
    "    print(\"🎉 Gửi xong tất cả message!\")\n"
   ]
  },
  {
   "cell_type": "code",
   "execution_count": 4,
   "id": "9a22a5d2-fb7e-4466-a5dd-89676766871c",
   "metadata": {},
   "outputs": [
    {
     "name": "stdout",
     "output_type": "stream",
     "text": [
      "Index(['Timestamp', 'From Bank', 'From Account', 'To Bank', 'To Account',\n",
      "       'Amount Received', 'Receiving Currency', 'Amount Paid',\n",
      "       'Payment Currency', 'Payment Format', 'Is Laundering', 'ts', 'txn_id',\n",
      "       'Bank', 'Account', 'year', 'month', 'day', 'date_str'],\n",
      "      dtype='object')\n",
      "📤 Bắt đầu gửi 66473 dòng vào Kafka topic 'transactions'...\n",
      "✅ Đã gửi txn_id=1\n"
     ]
    },
    {
     "ename": "KeyboardInterrupt",
     "evalue": "",
     "output_type": "error",
     "traceback": [
      "\u001b[0;31m---------------------------------------------------------------------------\u001b[0m",
      "\u001b[0;31mKeyboardInterrupt\u001b[0m                         Traceback (most recent call last)",
      "Cell \u001b[0;32mIn[4], line 2\u001b[0m\n\u001b[1;32m      1\u001b[0m csv_path \u001b[38;5;241m=\u001b[39m \u001b[38;5;124m\"\u001b[39m\u001b[38;5;124m./2022-09-05.csv\u001b[39m\u001b[38;5;124m\"\u001b[39m\n\u001b[0;32m----> 2\u001b[0m \u001b[43mstream_csv_to_kafka\u001b[49m\u001b[43m(\u001b[49m\u001b[43mcsv_path\u001b[49m\u001b[43m,\u001b[49m\u001b[43m \u001b[49m\u001b[43mdelay\u001b[49m\u001b[38;5;241;43m=\u001b[39;49m\u001b[38;5;241;43m10\u001b[39;49m\u001b[43m)\u001b[49m\n",
      "Cell \u001b[0;32mIn[3], line 37\u001b[0m, in \u001b[0;36mstream_csv_to_kafka\u001b[0;34m(csv_path, delay)\u001b[0m\n\u001b[1;32m     30\u001b[0m     producer\u001b[38;5;241m.\u001b[39msend(\n\u001b[1;32m     31\u001b[0m         KAFKA_TOPIC,\n\u001b[1;32m     32\u001b[0m         key\u001b[38;5;241m=\u001b[39mmessage[\u001b[38;5;124m\"\u001b[39m\u001b[38;5;124mfrom_bank\u001b[39m\u001b[38;5;124m\"\u001b[39m],\n\u001b[1;32m     33\u001b[0m         value\u001b[38;5;241m=\u001b[39mmessage\n\u001b[1;32m     34\u001b[0m     )\n\u001b[1;32m     35\u001b[0m     \u001b[38;5;28mprint\u001b[39m(\u001b[38;5;124mf\u001b[39m\u001b[38;5;124m\"\u001b[39m\u001b[38;5;124m✅ Đã gửi txn_id=\u001b[39m\u001b[38;5;132;01m{\u001b[39;00mmessage[\u001b[38;5;124m'\u001b[39m\u001b[38;5;124mtxn_id\u001b[39m\u001b[38;5;124m'\u001b[39m]\u001b[38;5;132;01m}\u001b[39;00m\u001b[38;5;124m\"\u001b[39m)\n\u001b[0;32m---> 37\u001b[0m     \u001b[43mtime\u001b[49m\u001b[38;5;241;43m.\u001b[39;49m\u001b[43msleep\u001b[49m\u001b[43m(\u001b[49m\u001b[43mdelay\u001b[49m\u001b[43m)\u001b[49m  \u001b[38;5;66;03m# giả lập streaming (chậm lại 0.5s mỗi bản ghi)\u001b[39;00m\n\u001b[1;32m     39\u001b[0m producer\u001b[38;5;241m.\u001b[39mflush()\n\u001b[1;32m     40\u001b[0m \u001b[38;5;28mprint\u001b[39m(\u001b[38;5;124m\"\u001b[39m\u001b[38;5;124m🎉 Gửi xong tất cả message!\u001b[39m\u001b[38;5;124m\"\u001b[39m)\n",
      "\u001b[0;31mKeyboardInterrupt\u001b[0m: "
     ]
    }
   ],
   "source": [
    "csv_path = \"./2022-09-05.csv\"\n",
    "stream_csv_to_kafka(csv_path, delay=10)"
   ]
  },
  {
   "cell_type": "code",
   "execution_count": null,
   "id": "0e9ece33-10fe-4cd8-98ba-5c9d69e286ba",
   "metadata": {},
   "outputs": [],
   "source": [
    "    # Lọc những dòng có is_laundering = 1\n",
    "    laundering_df = df[df[\"Is Laundering\"] == 1]\n",
    "    nonlaundering_df = df[df[\"Is Laundering\"] == 0]"
   ]
  }
 ],
 "metadata": {
  "kernelspec": {
   "display_name": "Python 3 (ipykernel)",
   "language": "python",
   "name": "python3"
  },
  "language_info": {
   "codemirror_mode": {
    "name": "ipython",
    "version": 3
   },
   "file_extension": ".py",
   "mimetype": "text/x-python",
   "name": "python",
   "nbconvert_exporter": "python",
   "pygments_lexer": "ipython3",
   "version": "3.11.6"
  }
 },
 "nbformat": 4,
 "nbformat_minor": 5
}
