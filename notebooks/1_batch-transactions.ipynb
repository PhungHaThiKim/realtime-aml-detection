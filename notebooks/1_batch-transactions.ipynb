{
 "cells": [
  {
   "cell_type": "code",
   "execution_count": 3,
   "id": "280d30d9-f258-49af-8e29-92b4c83c710d",
   "metadata": {},
   "outputs": [],
   "source": [
    "import requests\n",
    "import datetime"
   ]
  },
  {
   "cell_type": "code",
   "execution_count": 12,
   "id": "e0d422a8-628f-4f26-9c3d-dfc628b970d8",
   "metadata": {},
   "outputs": [],
   "source": [
    "RUN_DATE = '2022-09-05'"
   ]
  },
  {
   "cell_type": "code",
   "execution_count": 13,
   "id": "4a414eb3-0a8e-4beb-b832-27f6a6af4c5e",
   "metadata": {},
   "outputs": [
    {
     "name": "stdout",
     "output_type": "stream",
     "text": [
      "200 {\n",
      "  \"conf\": {\n",
      "    \"run_date\": \"2022-09-05\"\n",
      "  },\n",
      "  \"dag_id\": \"batch-transaction-to-graph\",\n",
      "  \"dag_run_id\": \"manual__2025-04-12-15:15:34\",\n",
      "  \"data_interval_end\": \"2025-04-12T15:15:34.386594+00:00\",\n",
      "  \"data_interval_start\": \"2025-04-12T15:15:34.386594+00:00\",\n",
      "  \"end_date\": null,\n",
      "  \"execution_date\": \"2025-04-12T15:15:34.386594+00:00\",\n",
      "  \"external_trigger\": true,\n",
      "  \"last_scheduling_decision\": null,\n",
      "  \"logical_date\": \"2025-04-12T15:15:34.386594+00:00\",\n",
      "  \"note\": null,\n",
      "  \"run_type\": \"manual\",\n",
      "  \"start_date\": null,\n",
      "  \"state\": \"queued\"\n",
      "}\n",
      "\n"
     ]
    }
   ],
   "source": [
    "time_run = datetime.datetime.now().strftime(\"%Y-%m-%d-%H:%M:%S\")\n",
    "resp = requests.post(\n",
    "    \"http://airflow-webserver:8080/api/v1/dags/batch-transaction-to-graph/dagRuns\",\n",
    "    auth=(\"airflow\", \"airflow\"),\n",
    "    headers={\"Content-Type\": \"application/json\"},\n",
    "    json={\n",
    "        \"conf\": {\"run_date\": RUN_DATE},\n",
    "        \"dag_run_id\": f\"manual__{time_run}\"\n",
    "    }\n",
    ")\n",
    "\n",
    "print(resp.status_code, resp.text)"
   ]
  },
  {
   "cell_type": "code",
   "execution_count": null,
   "id": "ff7d098d-fef8-4ccf-a7c2-49608b88f323",
   "metadata": {},
   "outputs": [],
   "source": []
  }
 ],
 "metadata": {
  "kernelspec": {
   "display_name": "Python 3 (ipykernel)",
   "language": "python",
   "name": "python3"
  },
  "language_info": {
   "codemirror_mode": {
    "name": "ipython",
    "version": 3
   },
   "file_extension": ".py",
   "mimetype": "text/x-python",
   "name": "python",
   "nbconvert_exporter": "python",
   "pygments_lexer": "ipython3",
   "version": "3.11.6"
  }
 },
 "nbformat": 4,
 "nbformat_minor": 5
}
