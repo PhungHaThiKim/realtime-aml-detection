{
 "cells": [
  {
   "cell_type": "code",
   "execution_count": 1,
   "id": "e9aba6ab-032b-4ebb-bed8-b66620389b2d",
   "metadata": {},
   "outputs": [],
   "source": [
    "from pyspark.sql import SparkSession"
   ]
  },
  {
   "cell_type": "code",
   "execution_count": 2,
   "id": "f0bd29a8-15a8-4ed5-aeb2-5cf6f6bc9b2c",
   "metadata": {},
   "outputs": [],
   "source": [
    "spark = (\n",
    "    SparkSession.builder.appName(\"Transaction Processor\")\n",
    "    .master(\"spark://spark-master:7077\")\n",
    "    .getOrCreate()\n",
    ")"
   ]
  },
  {
   "cell_type": "code",
   "execution_count": 3,
   "id": "0863c273-8328-4bd2-90af-a65e30dffc4c",
   "metadata": {},
   "outputs": [],
   "source": [
    "df = spark.read.parquet(\"hdfs://hadoop:9000/data/transactions/partitioned\")"
   ]
  },
  {
   "cell_type": "code",
   "execution_count": 4,
   "id": "de3c65ec-8c2b-4e9a-92af-02fa98aca103",
   "metadata": {},
   "outputs": [
    {
     "name": "stdout",
     "output_type": "stream",
     "text": [
      "+----------------+---------+------------+-------+----------+---------------+------------------+--------------+----------------+--------------+-------------+-------------------+------+------+---------+----+-----+---+\n",
      "|       Timestamp|From Bank|From Account|To Bank|To Account|Amount Received|Receiving Currency|   Amount Paid|Payment Currency|Payment Format|Is Laundering|                 ts|txn_id|  Bank|  Account|year|month|day|\n",
      "+----------------+---------+------------+-------+----------+---------------+------------------+--------------+----------------+--------------+-------------+-------------------+------+------+---------+----+-----+---+\n",
      "|2022/09/01 00:00|        1|   8001364A0|      1| 8001364A0|           10.3|         US Dollar|          10.3|       US Dollar|  Reinvestment|            0|2022-09-01 00:00:00|     1|     1|8001364A0|2022|    9|  1|\n",
      "|2022/09/01 00:00|        1|   800139380|      1| 800139380|          18.51|         US Dollar|         18.51|       US Dollar|  Reinvestment|            0|2022-09-01 00:00:00|     2|     1|800139380|2022|    9|  1|\n",
      "|2022/09/01 00:00|        1|   8001BA930|   1411| 8019F58F0|        3690.43|         US Dollar|       3690.43|       US Dollar|           ACH|            0|2022-09-01 00:00:00|     3|     1|8001BA930|2022|    9|  1|\n",
      "|2022/09/01 00:00|        1|   800BC3530|   3149| 80145D1D0|        9587.08|         US Dollar|       9587.08|       US Dollar|          Cash|            0|2022-09-01 00:00:00|     4|  3149|80145D1D0|2022|    9|  1|\n",
      "|2022/09/01 00:00|        1|   80131B6F0|      1| 80131B6F0|          17.41|         US Dollar|         17.41|       US Dollar|  Reinvestment|            0|2022-09-01 00:00:00|     5|     1|80131B6F0|2022|    9|  1|\n",
      "|2022/09/01 00:00|        3|   800E5F1D0|  21381| 802FFC060|       41052.82|              Yuan|      41052.82|            Yuan|   Credit Card|            0|2022-09-01 00:00:00|     6| 21381|802FFC060|2022|    9|  1|\n",
      "|2022/09/01 00:00|        4|   80E435B80|      4| 80E435B80|         121.14|              Yuan|        121.14|            Yuan|  Reinvestment|            0|2022-09-01 00:00:00|     7|     4|80E435B80|2022|    9|  1|\n",
      "|2022/09/01 00:00|        6|   804A495C0|      6| 804A495C0| 5.4796565444E8|             Rupee|5.4796565444E8|           Rupee|  Reinvestment|            0|2022-09-01 00:00:00|     8|     6|804A495C0|2022|    9|  1|\n",
      "|2022/09/01 00:00|        7|   8076E1730| 122047| 8083E2020|     1946560.01|          UK Pound|    1946560.01|        UK Pound|           ACH|            0|2022-09-01 00:00:00|     9|122047|8083E2020|2022|    9|  1|\n",
      "|2022/09/01 00:00|       10|   800126360|  12585| 807434490|        2605.82|         US Dollar|       2605.82|       US Dollar|        Cheque|            0|2022-09-01 00:00:00|    10|    10|800126360|2022|    9|  1|\n",
      "|2022/09/01 00:00|       10|   80639B830|     10| 80639B830|         783.08|             Ruble|        783.08|           Ruble|  Reinvestment|            0|2022-09-01 00:00:00|    11|    10|80639B830|2022|    9|  1|\n",
      "|2022/09/01 00:00|       11|   8000FD100|  14650| 803392780|       47690.82|              Euro|      47690.82|            Euro|        Cheque|            0|2022-09-01 00:00:00|    12|    11|8000FD100|2022|    9|  1|\n",
      "|2022/09/01 00:00|       11|   8001FD490|  11657| 800C74670|         3526.4|              Euro|        3526.4|            Euro|   Credit Card|            0|2022-09-01 00:00:00|    13|    11|8001FD490|2022|    9|  1|\n",
      "|2022/09/01 00:00|       11|   8001FD490|  11657| 800C74670|        5868.66|              Euro|       5868.66|            Euro|           ACH|            0|2022-09-01 00:00:00|    14|    11|8001FD490|2022|    9|  1|\n",
      "|2022/09/01 00:00|       11|   800256CC0|     11| 800256CC0|        5476.92|              Euro|       5476.92|            Euro|  Reinvestment|            0|2022-09-01 00:00:00|    15|    11|800256CC0|2022|    9|  1|\n",
      "|2022/09/01 00:00|       11|   8009636A0|     22| 802B81EB0|       12367.06|              Euro|      12367.06|            Euro|   Credit Card|            0|2022-09-01 00:00:00|    16|    11|8009636A0|2022|    9|  1|\n",
      "|2022/09/01 00:00|       12|   8000F5030|     12| 8000F5030|      616552.72|       Brazil Real|     109192.02|       US Dollar|           ACH|            0|2022-09-01 00:00:00|    17|    12|8000F5030|2022|    9|  1|\n",
      "|2022/09/01 00:00|       12|   8000F5030|    115| 80CE6F330|      616552.72|       Brazil Real|     616552.72|     Brazil Real|          Wire|            0|2022-09-01 00:00:00|    18|    12|8000F5030|2022|    9|  1|\n",
      "|2022/09/01 00:00|       12|   800151C60|   3698| 8032604D0|     1114441.51|         US Dollar|    1114441.51|       US Dollar|        Cheque|            0|2022-09-01 00:00:00|    19|    12|800151C60|2022|    9|  1|\n",
      "|2022/09/01 00:00|       12|   8001BFCF0|     23| 8002E1710|        39324.2|              Euro|       39324.2|            Euro|        Cheque|            0|2022-09-01 00:00:00|    20|    12|8001BFCF0|2022|    9|  1|\n",
      "+----------------+---------+------------+-------+----------+---------------+------------------+--------------+----------------+--------------+-------------+-------------------+------+------+---------+----+-----+---+\n",
      "only showing top 20 rows\n",
      "\n"
     ]
    }
   ],
   "source": [
    "# Lọc theo ngày cụ thể\n",
    "df_filtered = df.filter(\n",
    "    (df[\"year\"] == 2022) &\n",
    "    (df[\"month\"] == 9) &\n",
    "    (df[\"day\"] == 1)\n",
    ")\n",
    "\n",
    "df_filtered.show()"
   ]
  },
  {
   "cell_type": "code",
   "execution_count": 5,
   "id": "3c1ae70e-d2d5-4d05-a318-97aa0f715e6a",
   "metadata": {},
   "outputs": [
    {
     "name": "stdout",
     "output_type": "stream",
     "text": [
      "✅ Exported CSV for 2022-09-06 → hdfs://hadoop:9000/data/transactions/daily_csv/2022-09-06.csv\n",
      "✅ Exported CSV for 2022-09-09 → hdfs://hadoop:9000/data/transactions/daily_csv/2022-09-09.csv\n",
      "✅ Exported CSV for 2022-09-05 → hdfs://hadoop:9000/data/transactions/daily_csv/2022-09-05.csv\n",
      "✅ Exported CSV for 2022-09-01 → hdfs://hadoop:9000/data/transactions/daily_csv/2022-09-01.csv\n",
      "✅ Exported CSV for 2022-09-02 → hdfs://hadoop:9000/data/transactions/daily_csv/2022-09-02.csv\n",
      "✅ Exported CSV for 2022-09-03 → hdfs://hadoop:9000/data/transactions/daily_csv/2022-09-03.csv\n",
      "✅ Exported CSV for 2022-09-07 → hdfs://hadoop:9000/data/transactions/daily_csv/2022-09-07.csv\n",
      "✅ Exported CSV for 2022-09-11 → hdfs://hadoop:9000/data/transactions/daily_csv/2022-09-11.csv\n",
      "✅ Exported CSV for 2022-09-08 → hdfs://hadoop:9000/data/transactions/daily_csv/2022-09-08.csv\n",
      "✅ Exported CSV for 2022-09-10 → hdfs://hadoop:9000/data/transactions/daily_csv/2022-09-10.csv\n",
      "✅ Exported CSV for 2022-09-04 → hdfs://hadoop:9000/data/transactions/daily_csv/2022-09-04.csv\n",
      "✅ Exported CSV for 2022-09-17 → hdfs://hadoop:9000/data/transactions/daily_csv/2022-09-17.csv\n",
      "✅ Exported CSV for 2022-09-15 → hdfs://hadoop:9000/data/transactions/daily_csv/2022-09-15.csv\n",
      "✅ Exported CSV for 2022-09-13 → hdfs://hadoop:9000/data/transactions/daily_csv/2022-09-13.csv\n",
      "✅ Exported CSV for 2022-09-16 → hdfs://hadoop:9000/data/transactions/daily_csv/2022-09-16.csv\n",
      "✅ Exported CSV for 2022-09-14 → hdfs://hadoop:9000/data/transactions/daily_csv/2022-09-14.csv\n",
      "✅ Exported CSV for 2022-09-12 → hdfs://hadoop:9000/data/transactions/daily_csv/2022-09-12.csv\n",
      "✅ Exported CSV for 2022-09-18 → hdfs://hadoop:9000/data/transactions/daily_csv/2022-09-18.csv\n"
     ]
    }
   ],
   "source": [
    "from pyspark.sql.functions import to_date, date_format\n",
    "\n",
    "df = df.withColumn(\"date_str\", date_format(\"ts\", \"yyyy-MM-dd\"))\n",
    "dates = [row[\"date_str\"] for row in df.select(\"date_str\").distinct().collect()]\n",
    "\n",
    "for date in dates:\n",
    "    df_day = df.filter(df[\"date_str\"] == date)\n",
    "    \n",
    "    output_path = f\"hdfs://hadoop:9000/data/transactions/daily_csv/{date}.csv\"\n",
    "    \n",
    "    df_day.coalesce(1).write.mode(\"overwrite\") \\\n",
    "        .option(\"header\", True) \\\n",
    "        .csv(output_path)\n",
    "    \n",
    "    print(f\"✅ Exported CSV for {date} → {output_path}\")"
   ]
  },
  {
   "cell_type": "code",
   "execution_count": 6,
   "id": "060418de-84de-4389-bf77-44bce4a4bb63",
   "metadata": {},
   "outputs": [],
   "source": [
    "spark.stop()"
   ]
  },
  {
   "cell_type": "code",
   "execution_count": null,
   "id": "589cb1c3-eb1f-4dee-9f98-f786de89514a",
   "metadata": {},
   "outputs": [],
   "source": []
  }
 ],
 "metadata": {
  "kernelspec": {
   "display_name": "Python 3 (ipykernel)",
   "language": "python",
   "name": "python3"
  },
  "language_info": {
   "codemirror_mode": {
    "name": "ipython",
    "version": 3
   },
   "file_extension": ".py",
   "mimetype": "text/x-python",
   "name": "python",
   "nbconvert_exporter": "python",
   "pygments_lexer": "ipython3",
   "version": "3.11.6"
  }
 },
 "nbformat": 4,
 "nbformat_minor": 5
}
