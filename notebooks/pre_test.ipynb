{
 "cells": [
  {
   "cell_type": "code",
   "execution_count": 1,
   "id": "e9aba6ab-032b-4ebb-bed8-b66620389b2d",
   "metadata": {},
   "outputs": [],
   "source": [
    "from pyspark.sql import SparkSession"
   ]
  },
  {
   "cell_type": "code",
   "execution_count": 2,
   "id": "f0bd29a8-15a8-4ed5-aeb2-5cf6f6bc9b2c",
   "metadata": {},
   "outputs": [],
   "source": [
    "spark = (\n",
    "    SparkSession.builder.appName(\"Transaction Processor\")\n",
    "    .master(\"spark://spark-master:7077\")\n",
    "    .getOrCreate()\n",
    ")"
   ]
  },
  {
   "cell_type": "code",
   "execution_count": 3,
   "id": "0863c273-8328-4bd2-90af-a65e30dffc4c",
   "metadata": {},
   "outputs": [],
   "source": [
    "df = spark.read.parquet(\"hdfs://hadoop:9000/data/transactions/partitioned\")"
   ]
  },
  {
   "cell_type": "code",
   "execution_count": 5,
   "id": "de3c65ec-8c2b-4e9a-92af-02fa98aca103",
   "metadata": {},
   "outputs": [
    {
     "name": "stdout",
     "output_type": "stream",
     "text": [
      "+----------------+---------+------------+-------+----------+---------------+------------------+-----------+----------------+--------------+-------------+-------------------+------+----+-----+---+\n",
      "|       Timestamp|From Bank|From Account|To Bank|To Account|Amount Received|Receiving Currency|Amount Paid|Payment Currency|Payment Format|Is Laundering|                 ts|txn_id|year|month|day|\n",
      "+----------------+---------+------------+-------+----------+---------------+------------------+-----------+----------------+--------------+-------------+-------------------+------+----+-----+---+\n",
      "|2022/09/01 00:00|        1|   800057A10|     12| 800473570|        1433.68|         US Dollar|    1433.68|       US Dollar|        Cheque|            0|2022-09-01 00:00:00|     1|2022|    9|  1|\n",
      "|2022/09/01 10:41|     3144|   801DD7F00|   3144| 801DD7F00|        1633.09|         US Dollar|    1633.09|       US Dollar|  Reinvestment|            0|2022-09-01 10:41:00|668210|2022|    9|  1|\n",
      "|2022/09/01 00:00|        1|   80005C0A0|   1588| 8003AC470|         427.27|         US Dollar|     427.27|       US Dollar|           ACH|            0|2022-09-01 00:00:00|     2|2022|    9|  1|\n",
      "|2022/09/01 10:41|     3144|   805701F10|   3144| 805701F10|        6646.98|         US Dollar|    6646.98|       US Dollar|  Reinvestment|            0|2022-09-01 10:41:00|668211|2022|    9|  1|\n",
      "|2022/09/01 00:00|        1|   80005E740|   1362| 800256180|         3698.2|         US Dollar|     3698.2|       US Dollar|   Credit Card|            0|2022-09-01 00:00:00|     3|2022|    9|  1|\n",
      "|2022/09/01 10:41|     3149|   80160FA50|   1420| 80FD9D1A0|       17201.48|         US Dollar|   17201.48|       US Dollar|        Cheque|            0|2022-09-01 10:41:00|668212|2022|    9|  1|\n",
      "|2022/09/01 00:00|        1|   8000EBF70| 220271| 80CD447B0|        5529.28|         US Dollar|    5529.28|       US Dollar|          Wire|            0|2022-09-01 00:00:00|     4|2022|    9|  1|\n",
      "|2022/09/01 10:41|     3149|   803E390C0|   6129| 812328F40|         205.64|         US Dollar|     205.64|       US Dollar|        Cheque|            0|2022-09-01 10:41:00|668213|2022|    9|  1|\n",
      "|2022/09/01 00:00|        1|   8001111F0|   3242| 802DB2450|         268.51|         US Dollar|     268.51|       US Dollar|   Credit Card|            0|2022-09-01 00:00:00|     5|2022|    9|  1|\n",
      "|2022/09/01 10:41|     3229|   805905F30|   3229| 805905F30|      693391.07|         US Dollar|  693391.07|       US Dollar|  Reinvestment|            0|2022-09-01 10:41:00|668214|2022|    9|  1|\n",
      "|2022/09/01 00:00|        1|   8001364A0|      1| 8001364A0|           10.3|         US Dollar|       10.3|       US Dollar|  Reinvestment|            0|2022-09-01 00:00:00|     6|2022|    9|  1|\n",
      "|2022/09/01 10:41|     3335|   802352520|   3335| 802352520|          16.46|              Euro|      16.46|            Euro|  Reinvestment|            0|2022-09-01 10:41:00|668215|2022|    9|  1|\n",
      "|2022/09/01 00:00|        1|   800139380|      1| 800139380|          18.51|         US Dollar|      18.51|       US Dollar|  Reinvestment|            0|2022-09-01 00:00:00|     7|2022|    9|  1|\n",
      "|2022/09/01 10:41|     3365|   8023E4AB0|   3365| 8023E4AB0|        3437.65|         US Dollar|    3437.65|       US Dollar|  Reinvestment|            0|2022-09-01 10:41:00|668216|2022|    9|  1|\n",
      "|2022/09/01 00:00|        1|   8001409E0|     10| 800173690|        4743.61|         US Dollar|    4743.61|       US Dollar|        Cheque|            0|2022-09-01 00:00:00|     8|2022|    9|  1|\n",
      "|2022/09/01 10:41|     3420|   802772010| 211075| 80F978730|          75.07|         US Dollar|      75.07|       US Dollar|   Credit Card|            0|2022-09-01 10:41:00|668217|2022|    9|  1|\n",
      "|2022/09/01 00:00|        1|   8001409E0|  16333| 804785B80|     2233615.03|         US Dollar| 2233615.03|       US Dollar|        Cheque|            0|2022-09-01 00:00:00|     9|2022|    9|  1|\n",
      "|2022/09/01 10:41|     3514|   80697EE10|   5328| 807A5EA50|        2809.76|              Euro|    2809.76|            Euro|          Cash|            0|2022-09-01 10:41:00|668218|2022|    9|  1|\n",
      "|2022/09/01 00:00|        1|   800143B00|    513| 8003231B0|         174.32|         US Dollar|     174.32|       US Dollar|        Cheque|            0|2022-09-01 00:00:00|    10|2022|    9|  1|\n",
      "|2022/09/01 10:41|     3655|   802A46670|  13057| 80802C0E0|         471.86|              Euro|     471.86|            Euro|   Credit Card|            0|2022-09-01 10:41:00|668219|2022|    9|  1|\n",
      "+----------------+---------+------------+-------+----------+---------------+------------------+-----------+----------------+--------------+-------------+-------------------+------+----+-----+---+\n",
      "only showing top 20 rows\n",
      "\n"
     ]
    }
   ],
   "source": [
    "# Lọc theo ngày cụ thể\n",
    "df_filtered = df.filter(\n",
    "    (df[\"year\"] == 2022) &\n",
    "    (df[\"month\"] == 9) &\n",
    "    (df[\"day\"] == 1)\n",
    ")\n",
    "\n",
    "df_filtered.show()"
   ]
  },
  {
   "cell_type": "code",
   "execution_count": 5,
   "id": "3c1ae70e-d2d5-4d05-a318-97aa0f715e6a",
   "metadata": {},
   "outputs": [
    {
     "name": "stdout",
     "output_type": "stream",
     "text": [
      "✅ Exported CSV for 2022-09-03 → hdfs://hadoop:9000/data/transactions/daily_csv/2022-09-03.csv\n",
      "✅ Exported CSV for 2022-09-17 → hdfs://hadoop:9000/data/transactions/daily_csv/2022-09-17.csv\n",
      "✅ Exported CSV for 2022-09-15 → hdfs://hadoop:9000/data/transactions/daily_csv/2022-09-15.csv\n",
      "✅ Exported CSV for 2022-09-11 → hdfs://hadoop:9000/data/transactions/daily_csv/2022-09-11.csv\n",
      "✅ Exported CSV for 2022-09-13 → hdfs://hadoop:9000/data/transactions/daily_csv/2022-09-13.csv\n",
      "✅ Exported CSV for 2022-09-16 → hdfs://hadoop:9000/data/transactions/daily_csv/2022-09-16.csv\n",
      "✅ Exported CSV for 2022-09-14 → hdfs://hadoop:9000/data/transactions/daily_csv/2022-09-14.csv\n",
      "✅ Exported CSV for 2022-09-04 → hdfs://hadoop:9000/data/transactions/daily_csv/2022-09-04.csv\n",
      "✅ Exported CSV for 2022-09-12 → hdfs://hadoop:9000/data/transactions/daily_csv/2022-09-12.csv\n",
      "✅ Exported CSV for 2022-09-18 → hdfs://hadoop:9000/data/transactions/daily_csv/2022-09-18.csv\n",
      "✅ Exported CSV for 2022-09-07 → hdfs://hadoop:9000/data/transactions/daily_csv/2022-09-07.csv\n",
      "✅ Exported CSV for 2022-09-06 → hdfs://hadoop:9000/data/transactions/daily_csv/2022-09-06.csv\n",
      "✅ Exported CSV for 2022-09-09 → hdfs://hadoop:9000/data/transactions/daily_csv/2022-09-09.csv\n",
      "✅ Exported CSV for 2022-09-08 → hdfs://hadoop:9000/data/transactions/daily_csv/2022-09-08.csv\n",
      "✅ Exported CSV for 2022-09-05 → hdfs://hadoop:9000/data/transactions/daily_csv/2022-09-05.csv\n",
      "✅ Exported CSV for 2022-09-10 → hdfs://hadoop:9000/data/transactions/daily_csv/2022-09-10.csv\n",
      "✅ Exported CSV for 2022-09-01 → hdfs://hadoop:9000/data/transactions/daily_csv/2022-09-01.csv\n",
      "✅ Exported CSV for 2022-09-02 → hdfs://hadoop:9000/data/transactions/daily_csv/2022-09-02.csv\n"
     ]
    }
   ],
   "source": [
    "from pyspark.sql.functions import to_date, date_format\n",
    "\n",
    "df = df.withColumn(\"date_str\", date_format(\"ts\", \"yyyy-MM-dd\"))\n",
    "dates = [row[\"date_str\"] for row in df.select(\"date_str\").distinct().collect()]\n",
    "\n",
    "for date in dates:\n",
    "    df_day = df.filter(df[\"date_str\"] == date)\n",
    "    \n",
    "    output_path = f\"hdfs://hadoop:9000/data/transactions/daily_csv/{date}.csv\"\n",
    "    \n",
    "    df_day.coalesce(1).write.mode(\"overwrite\") \\\n",
    "        .option(\"header\", True) \\\n",
    "        .csv(output_path)\n",
    "    \n",
    "    print(f\"✅ Exported CSV for {date} → {output_path}\")"
   ]
  },
  {
   "cell_type": "code",
   "execution_count": null,
   "id": "060418de-84de-4389-bf77-44bce4a4bb63",
   "metadata": {},
   "outputs": [],
   "source": []
  }
 ],
 "metadata": {
  "kernelspec": {
   "display_name": "Python 3 (ipykernel)",
   "language": "python",
   "name": "python3"
  },
  "language_info": {
   "codemirror_mode": {
    "name": "ipython",
    "version": 3
   },
   "file_extension": ".py",
   "mimetype": "text/x-python",
   "name": "python",
   "nbconvert_exporter": "python",
   "pygments_lexer": "ipython3",
   "version": "3.11.6"
  }
 },
 "nbformat": 4,
 "nbformat_minor": 5
}
